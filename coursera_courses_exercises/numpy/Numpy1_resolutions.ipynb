{
 "cells": [
  {
   "cell_type": "markdown",
   "id": "3d422939",
   "metadata": {},
   "source": [
    "## Introduction\n",
    "\n",
    "These are some notebook Numpy1 exercises resolutions \n",
    "***"
   ]
  },
  {
   "cell_type": "markdown",
   "id": "1ccf09aa",
   "metadata": {},
   "source": [
    "#### 1 - Return the even numbers in the given array \n",
    "> arr = np.array([1, 2, 3, 4, 5, 6, 7, 8])\n",
    "\n",
    "    In this solution, I created a variable that progressively iterates through the elements of the array, allowing each value to be divided by 2. If the remainder of the division is 0, the number is considered even."
   ]
  },
  {
   "cell_type": "code",
   "execution_count": 3,
   "id": "b3a3acdd",
   "metadata": {},
   "outputs": [
    {
     "name": "stdout",
     "output_type": "stream",
     "text": [
      "[2, 4, 6, 8]\n"
     ]
    }
   ],
   "source": [
    "import numpy as np\n",
    "\n",
    "arr = np.array([1, 2, 3, 4, 5, 6, 7, 8])\n",
    "\n",
    "def even_numbs(arr):\n",
    "    \n",
    "    even_nums = []\n",
    "    y = 0\n",
    "\n",
    "    for i in arr:\n",
    "        if arr[y] % 2 == 0:\n",
    "            even_nums.append(arr[y])\n",
    "            y = y + 1 \n",
    "        else:\n",
    "            y = y + 1\n",
    "            \n",
    "    return even_nums\n",
    "                    \n",
    "print(even_numbs(arr))"
   ]
  },
  {
   "cell_type": "markdown",
   "id": "2f80fd21",
   "metadata": {},
   "source": [
    "#### 2 - Find the sum of maximum and minimum value in the given numpy array\n",
    "\n",
    "> c = np.array([-10, 201, 43, 94, 502])\n",
    "\n",
    "    In this solution, I created a function that adds the maximum value of the array to its minimum value."
   ]
  },
  {
   "cell_type": "code",
   "execution_count": null,
   "id": "c645a104",
   "metadata": {},
   "outputs": [],
   "source": [
    "c = np.array([-10, 201, 43, 94, 502])\n",
    "\n",
    "# Enter your code here\n",
    "def sum_maxmin(x):\n",
    "    return np.sum([x.max(), x.min()])\n",
    "\n",
    "sum_maxmin(c)"
   ]
  },
  {
   "cell_type": "markdown",
   "id": "d45037a7",
   "metadata": {},
   "source": [
    "#### 3 - Perform addition operation on the given numpy array arr1 and arr2:\n",
    "\n",
    "> arr1 = np.array([10, 11, 12, 13, 14, 15])\n",
    "<br>\n",
    "> arr2 = np.array([20, 21, 22, 23, 24, 25])\n",
    "\n",
    "    In this solution, instead of simply using add directly to sum the two arrays, I created a function that performs multiple mathematical operations: addition, subtraction, multiplication, division, and dot product. To achieve this, I used the getattr command to dynamically access the functions available in the NumPy module, based on the operation chosen by the user (z).\n",
    "\n"
   ]
  },
  {
   "cell_type": "code",
   "execution_count": 12,
   "id": "3e8b1e58",
   "metadata": {},
   "outputs": [
    {
     "name": "stdout",
     "output_type": "stream",
     "text": [
      "which operation you want to do? the options are: add, subtract, multiply, divide and dotsubtract\n"
     ]
    },
    {
     "data": {
      "text/plain": [
       "array([-10, -10, -10, -10, -10, -10])"
      ]
     },
     "execution_count": 12,
     "metadata": {},
     "output_type": "execute_result"
    }
   ],
   "source": [
    "arr1 = np.array([10, 11, 12, 13, 14, 15])\n",
    "arr2 = np.array([20, 21, 22, 23, 24, 25])\n",
    "\n",
    "def operingarrays(x, y):\n",
    "    z = input('which operation you want to do? the options are: add, subtract, multiply, divide and dot')\n",
    "    operation = getattr(np, z)\n",
    "    return operation(arr1, arr2)\n",
    "   # return np.add(arr1, arr2), np.subtract(arr1, arr2), np.multiply(arr1, arr2), np.divide(arr1, arr2), np.dot(arr1, arr2)\n",
    "\n",
    "operingarrays(arr1, arr2)"
   ]
  },
  {
   "cell_type": "code",
   "execution_count": null,
   "id": "c9f46005",
   "metadata": {},
   "outputs": [],
   "source": []
  }
 ],
 "metadata": {
  "kernelspec": {
   "display_name": "Python 3 (ipykernel)",
   "language": "python",
   "name": "python3"
  },
  "language_info": {
   "codemirror_mode": {
    "name": "ipython",
    "version": 3
   },
   "file_extension": ".py",
   "mimetype": "text/x-python",
   "name": "python",
   "nbconvert_exporter": "python",
   "pygments_lexer": "ipython3",
   "version": "3.11.5"
  }
 },
 "nbformat": 4,
 "nbformat_minor": 5
}
